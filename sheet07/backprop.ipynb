{
 "cells": [
  {
   "cell_type": "raw",
   "id": "c7e32354-d5cc-4b47-a4cd-e063b84bff5e",
   "metadata": {},
   "source": [
    "1. Reverse Mode Automatic Differentiation"
   ]
  },
  {
   "cell_type": "code",
   "execution_count": null,
   "id": "a0abc646-d10c-4021-b038-22c76746e1bb",
   "metadata": {},
   "outputs": [],
   "source": [
    "d)"
   ]
  },
  {
   "cell_type": "code",
   "execution_count": 11,
   "id": "441a05e9-4407-4aa2-af9e-d5d73df9ee78",
   "metadata": {},
   "outputs": [
    {
     "name": "stdout",
     "output_type": "stream",
     "text": [
      "Output: 42.11137008666992\n",
      "Gradient w.r.t x: 48.756893157958984\n",
      "Gradient w.r.t c: -10.0\n"
     ]
    }
   ],
   "source": [
    "import torch\n",
    "\n",
    "x = torch.tensor(3.0, requires_grad=True)  \n",
    "c = torch.tensor(5.0, requires_grad=True)  \n",
    "\n",
    "log_x = torch.log(x)\n",
    "div= (x**2) / log_x \n",
    "mult = (div + c) * (div - c)  \n",
    "\n",
    "mult.backward()\n",
    "\n",
    "grad_x = x.grad\n",
    "grad_c = c.grad\n",
    "\n",
    "print(f\"Output: {mult.item()}\")\n",
    "print(f\"Gradient w.r.t x: {grad_x.item()}\")\n",
    "print(f\"Gradient w.r.t c: {grad_c.item()}\")"
   ]
  },
  {
   "cell_type": "code",
   "execution_count": null,
   "id": "f2380da9-e6e8-48aa-b4fa-73b4466aa538",
   "metadata": {},
   "outputs": [],
   "source": []
  }
 ],
 "metadata": {
  "kernelspec": {
   "display_name": "anaconda-2024.02-py310",
   "language": "python",
   "name": "conda-env-anaconda-2024.02-py310-py"
  },
  "language_info": {
   "codemirror_mode": {
    "name": "ipython",
    "version": 3
   },
   "file_extension": ".py",
   "mimetype": "text/x-python",
   "name": "python",
   "nbconvert_exporter": "python",
   "pygments_lexer": "ipython3",
   "version": "3.10.14"
  }
 },
 "nbformat": 4,
 "nbformat_minor": 5
}
